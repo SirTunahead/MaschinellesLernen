{
 "cells": [
  {
   "cell_type": "code",
   "execution_count": 1,
   "id": "2a52016a-0322-429d-8cba-e33e356b80a8",
   "metadata": {
    "tags": []
   },
   "outputs": [],
   "source": [
    "import numpy as np\n",
    "import matplotlib.pyplot as plt"
   ]
  },
  {
   "cell_type": "markdown",
   "id": "47a48097-4a68-47c3-96c4-9f6354df9c58",
   "metadata": {},
   "source": [
    "## Error Correction Algorithm"
   ]
  },
  {
   "cell_type": "code",
   "execution_count": 2,
   "id": "fddb4675-f3d7-403e-90b2-010108f5644b",
   "metadata": {
    "tags": []
   },
   "outputs": [
    {
     "name": "stdout",
     "output_type": "stream",
     "text": [
      "[0, -2, 2.0]\n"
     ]
    }
   ],
   "source": [
    "    s = [((0, 2), 1), ((1, 1), 1), ((1, 2.5), 1), ((2, 0), 0), ((3, 0.5), 0)]\n",
    "    w = [0, 0, 0]\n",
    "\n",
    "    for i in range(len(s)):\n",
    "        c = s[i][1]\n",
    "        input0 = 1\n",
    "        input1 = s[i][0][0]\n",
    "        input2 = s[i][0][1]\n",
    "\n",
    "        # calculation for o\n",
    "        sigma = input0 * w[0] + input1 * w[1] + input2 * w[2]\n",
    "\n",
    "        if sigma > 0:\n",
    "            o = 1\n",
    "        else:\n",
    "            o = 0\n",
    "\n",
    "        w[0] = w[0] + (c - o) * input0\n",
    "        w[1] = w[1] + (c - o) * input1\n",
    "        w[2] = w[2] + (c - o) * input2\n",
    "\n",
    "    print(w)"
   ]
  },
  {
   "cell_type": "markdown",
   "id": "2924713b-27c5-4b95-9475-8d0932f8f7bc",
   "metadata": {},
   "source": [
    "## Error Correction ALgorithm Plot"
   ]
  },
  {
   "cell_type": "code",
   "execution_count": 3,
   "id": "e1e6016d-8fc0-4f62-a4eb-ac9c885c7363",
   "metadata": {
    "tags": []
   },
   "outputs": [
    {
     "data": {
      "image/png": "[encoded data removed]",
      "text/plain": [
       "<Figure size 640x480 with 1 Axes>"
      ]
     },
     "metadata": {},
     "output_type": "display_data"
    }
   ],
   "source": [
    "    # Grenzen des Plots definieren\n",
    "    x_min, x_max = -0.5, 3.5\n",
    "    y_min, y_max = -0.5, 3.0\n",
    "\n",
    "    # Gitter für den Plot erzeugen\n",
    "    xx, yy = np.meshgrid(np.arange(x_min, x_max, 0.1), np.arange(y_min, y_max, 0.1))\n",
    "\n",
    "    # Vorhersage für jedes Gitterpunkt berechnen\n",
    "    Z = np.zeros(xx.shape)\n",
    "    for i in range(xx.shape[0]):\n",
    "        for j in range(xx.shape[1]):\n",
    "            x1 = xx[i, j]\n",
    "            x2 = yy[i, j]\n",
    "            sigma = w[0] + w[1] * x1 + w[2] * x2\n",
    "            if sigma > 0:\n",
    "                Z[i, j] = 1\n",
    "\n",
    "    # Plotten\n",
    "    plt.figure()\n",
    "    plt.scatter([x[0][0] for x in s[:3]], [x[0][1] for x in s[:3]], color='blue', label='Klasse 1')\n",
    "    plt.scatter([x[0][0] for x in s[3:]], [x[0][1] for x in s[3:]], color='red', label='Klasse 2')\n",
    "    plt.contourf(xx, yy, Z, alpha=0.5, cmap=plt.cm.coolwarm)\n",
    "    plt.xlim(x_min, x_max)\n",
    "    plt.ylim(y_min, y_max)\n",
    "    plt.xlabel('x1')\n",
    "    plt.ylabel('x2')\n",
    "    plt.legend()\n",
    "    plt.show()"
   ]
  },
  {
   "cell_type": "markdown",
   "id": "7c831a93-cb8e-469c-bb91-4ed1e62067a2",
   "metadata": {},
   "source": [
    "## Gradiant Desecent algorithm"
   ]
  },
  {
   "cell_type": "code",
   "execution_count": 10,
   "id": "a227dfe7-8c24-4dfd-bd4d-bf187a1ef5a7",
   "metadata": {
    "tags": []
   },
   "outputs": [
    {
     "name": "stdout",
     "output_type": "stream",
     "text": [
      "[ -6.  -4. -11.]\n"
     ]
    }
   ],
   "source": [
    "    # Gradiant Desecent algorithm\n",
    "\n",
    "    s2 = [((0, 2), 1), ((1, 1), 1), ((1, 2.5), 1), ((2, 0), 0), ((3, 0.5), 0)]\n",
    "\n",
    "    w_new = [0, 0, 0]\n",
    "\n",
    "    grad = np.zeros_like(w)\n",
    "    for i in range(len(s)):\n",
    "        c = s[i][1]\n",
    "        input0 = 1\n",
    "        input1 = s2[i][0][0]\n",
    "        input2 = s2[i][0][1]\n",
    "        sigma = input0 * w_new[0] + input1 * w_new[1] + input2 * w_new[2]\n",
    "        grad[0] += -2 * (c - sigma) * input0\n",
    "        grad[1] += -2 * (c - sigma) * input1\n",
    "        grad[2] += -2 * (c - sigma) * input2\n",
    "\n",
    "    print(grad)"
   ]
  },
  {
   "cell_type": "code",
   "execution_count": null,
   "id": "a7e086ba-db1b-44da-ad2b-7a29b28b95d8",
   "metadata": {},
   "outputs": [],
   "source": []
  }
 ],
 "metadata": {
  "kernelspec": {
   "display_name": "Python 3 (ipykernel)",
   "language": "python",
   "name": "python3"
  },
  "language_info": {
   "codemirror_mode": {
    "name": "ipython",
    "version": 3
   },
   "file_extension": ".py",
   "mimetype": "text/x-python",
   "name": "python",
   "nbconvert_exporter": "python",
   "pygments_lexer": "ipython3",
   "version": "3.10.9"
  }
 },
 "nbformat": 4,
 "nbformat_minor": 5
}
