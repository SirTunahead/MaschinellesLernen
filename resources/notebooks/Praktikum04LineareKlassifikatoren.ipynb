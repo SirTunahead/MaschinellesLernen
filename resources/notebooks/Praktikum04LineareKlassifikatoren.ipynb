{
  "metadata": {
    "kernelspec": {
      "name": "python",
      "display_name": "Python (Pyodide)",
      "language": "python"
    },
    "language_info": {
      "codemirror_mode": {
        "name": "python",
        "version": 3
      },
      "file_extension": ".py",
      "mimetype": "text/x-python",
      "name": "python",
      "nbconvert_exporter": "python",
      "pygments_lexer": "ipython3",
      "version": "3.8"
    }
  },
  "nbformat_minor": 4,
  "nbformat": 4,
  "cells": [
    {
      "cell_type": "markdown",
      "source": "## Maschinelles Lernen WiSe 2022\n### Praktikum 4\n\nLineare Klassifikation auf künstlich generierten Beispieldaten:\nLineare Regression, LogitRegression, SoftmaxRegression, Polynommerkmale",
      "metadata": {}
    },
    {
      "cell_type": "code",
      "source": "# necessary includes\nimport numpy as np\nimport matplotlib.pyplot as plt\nfrom matplotlib.colors import ListedColormap\nfrom sklearn.datasets import make_moons\nfrom sklearn import linear_model\n\n# colors for display\ncmap_light = ListedColormap(['#AAAAFF', '#FFAAAA'])\ncmap_bold = ListedColormap(['#0000FF','#FF0000'])\n",
      "metadata": {
        "tags": [],
        "trusted": true
      },
      "execution_count": 1,
      "outputs": []
    },
    {
      "cell_type": "markdown",
      "source": "#### Beispieldaten erzeugen\nGenerieren Sie einen Beispieldatensatz und visualisieren diesen, so lange, bis Ihnen der Datensatz gefällt... :-)\nStarten Sie mit einem \"Moons\" Datensatz mit einem Rauschfaktor von mindestens 0.2 (noise=0.2)\n\nhttps://scikit-learn.org/stable/modules/generated/sklearn.datasets.make_moons.html#sklearn.datasets.make_moons\n",
      "metadata": {}
    },
    {
      "cell_type": "code",
      "source": "X, y = make_moons(n_samples=100, noise=0.2)",
      "metadata": {
        "tags": [],
        "trusted": true
      },
      "execution_count": 2,
      "outputs": []
    },
    {
      "cell_type": "markdown",
      "source": "Erzeugen eines Logit-Klasifikators mit dem solver \"liblinear\", der die Daten klassifizieren soll:",
      "metadata": {}
    },
    {
      "cell_type": "code",
      "source": "logReg = linear_model.LogisticRegression( multi_class='multinomial', solver='lbfgs')",
      "metadata": {
        "tags": [],
        "trusted": true
      },
      "execution_count": 3,
      "outputs": []
    },
    {
      "cell_type": "markdown",
      "source": "Trainieren Sie nun den lineaern Klassifikator mit den oben erzeugten Daten:",
      "metadata": {}
    },
    {
      "cell_type": "code",
      "source": "logReg.fit(X,y)\nlogReg.predict(X)",
      "metadata": {
        "tags": [],
        "trusted": true
      },
      "execution_count": 31,
      "outputs": [
        {
          "execution_count": 31,
          "output_type": "execute_result",
          "data": {
            "text/plain": "array([0, 1, 0, 1, 0, 0, 0, 0, 1, 0, 1, 0, 1, 1, 0, 1, 1, 1, 0, 1, 1, 1,\n       0, 0, 0, 1, 1, 1, 1, 1, 0, 1, 0, 0, 0, 0, 0, 0, 1, 0, 0, 1, 0, 1,\n       1, 1, 1, 0, 1, 1, 0, 1, 1, 0, 1, 1, 0, 1, 1, 1, 1, 1, 0, 0, 1, 1,\n       0, 0, 1, 0, 1, 1, 1, 0, 0, 1, 1, 0, 1, 0, 0, 0, 1, 1, 1, 0, 0, 1,\n       0, 0, 0, 1, 0, 0, 0, 0, 1, 0, 0, 1], dtype=int32)"
          },
          "metadata": {}
        }
      ]
    },
    {
      "cell_type": "markdown",
      "source": "Nun wollen wir die Entscheidungsgrenzen des Klassifikators anzeigen, in dem wir alle Hintergrundpunkte in der Umgebung der Trainingsdaten klassifizieren lassen. Die Erzeugung der zu klassifizierenden Hintergrundpunkte (`meshPointsToClassify`) ist bereits vorgegeben:",
      "metadata": {}
    },
    {
      "cell_type": "code",
      "source": "# show decision boundary of the classifier:\n# idea: generate coordinates for a dense mesh, classify each of these points\n\n# first: get the rough range where the data points lie (to generate appropriate values)\nx_min, x_max = X[:, 0].min() - .5, X[:, 0].max() + .5\ny_min, y_max = X[:, 1].min() - .5, X[:, 1].max() + .5\nh = .02  # step size in the mesh\n\n# we need all combinations for the x and y coordinates\n#https://docs.scipy.org/doc/numpy-1.15.0/reference/generated/numpy.meshgrid.html\nxx, yy = np.meshgrid(np.arange(x_min, x_max, h), np.arange(y_min, y_max, h))\n\n# The result of meshgrid are N N-D matrices. Here: two 2D-Matrices. In order to\n# get the points into the classifier, we have to flatten the matrices \n# and put them into a new matrix with \n# => https://docs.scipy.org/doc/numpy-1.15.0/reference/generated/numpy.ravel.html\n# => https://docs.scipy.org/doc/numpy-1.15.0/reference/generated/numpy.c_.html\nmeshPointsToClassify = np.c_[xx.ravel(), yy.ravel()]\nprint(meshPointsToClassify.shape)",
      "metadata": {
        "trusted": true
      },
      "execution_count": 32,
      "outputs": [
        {
          "name": "stdout",
          "text": "(35708, 2)\n",
          "output_type": "stream"
        }
      ]
    },
    {
      "cell_type": "markdown",
      "source": "Klassifizieren Sie nun die Hintergrundpunkte, und legen Sie die Ergebnisse in der Variable `predicition`\nab. ",
      "metadata": {}
    },
    {
      "cell_type": "code",
      "source": "meshPointsToClassify.shape\nprediction = meshPointsToClassify",
      "metadata": {
        "trusted": true
      },
      "execution_count": 33,
      "outputs": []
    },
    {
      "cell_type": "markdown",
      "source": "Anzeigen der Klassifikationsgrenze, zusammen mit den Trainingsdaten:",
      "metadata": {}
    },
    {
      "cell_type": "code",
      "source": "# to bring the predicted labels in a form that the plotcolormesh understands\nprediction = prediction.reshape(xx.shape) \nplt.pcolormesh(xx, yy, prediction, cmap=cmap_light)\nplt.scatter(X[:, 0], X[:, 1], c = y, cmap=cmap_bold)\nplt.show()",
      "metadata": {
        "trusted": true
      },
      "execution_count": 34,
      "outputs": [
        {
          "ename": "<class 'ValueError'>",
          "evalue": "cannot reshape array of size 71416 into shape (158,226)",
          "traceback": [
            "\u001b[0;31m---------------------------------------------------------------------------\u001b[0m",
            "\u001b[0;31mValueError\u001b[0m                                Traceback (most recent call last)",
            "Cell \u001b[0;32mIn[34], line 2\u001b[0m\n\u001b[1;32m      1\u001b[0m \u001b[38;5;66;03m# to bring the predicted labels in a form that the plotcolormesh understands\u001b[39;00m\n\u001b[0;32m----> 2\u001b[0m prediction \u001b[38;5;241m=\u001b[39m \u001b[43mprediction\u001b[49m\u001b[38;5;241;43m.\u001b[39;49m\u001b[43mreshape\u001b[49m\u001b[43m(\u001b[49m\u001b[43mxx\u001b[49m\u001b[38;5;241;43m.\u001b[39;49m\u001b[43mshape\u001b[49m\u001b[43m)\u001b[49m \n\u001b[1;32m      3\u001b[0m plt\u001b[38;5;241m.\u001b[39mpcolormesh(xx, yy, prediction, cmap\u001b[38;5;241m=\u001b[39mcmap_light)\n\u001b[1;32m      4\u001b[0m plt\u001b[38;5;241m.\u001b[39mscatter(X[:, \u001b[38;5;241m0\u001b[39m], X[:, \u001b[38;5;241m1\u001b[39m], c \u001b[38;5;241m=\u001b[39m y, cmap\u001b[38;5;241m=\u001b[39mcmap_bold)\n",
            "\u001b[0;31mValueError\u001b[0m: cannot reshape array of size 71416 into shape (158,226)"
          ],
          "output_type": "error"
        }
      ]
    },
    {
      "cell_type": "markdown",
      "source": "### Polynomklassifikator\nErzeugen Sie Polynommerkmale für die eben klassifizierten Daten und wiederholen Sie das Training sowie die Klassifikation der Ebenenpunkte. Starten Sie mit Polynomgrad 3, und erhöhen Sie später.",
      "metadata": {}
    },
    {
      "cell_type": "code",
      "source": "from sklearn.preprocessing import PolynomialFeatures\n",
      "metadata": {
        "trusted": true
      },
      "execution_count": 8,
      "outputs": []
    },
    {
      "cell_type": "markdown",
      "source": "Trainieren Sie den Klassifikator mit den Polynommerkmalen.",
      "metadata": {}
    },
    {
      "cell_type": "code",
      "source": "",
      "metadata": {},
      "execution_count": null,
      "outputs": []
    },
    {
      "cell_type": "markdown",
      "source": "Klassifizieren Sie nun die Hintergrundpunkte erneut. Vorsicht: wie müssen nun die Merkmale für die Ebenenpunkte aussehen? Speichern Sie die neuen Ebenenpunktmerkmale in der Variable `polyMeshPointsToClassify`.\n\nLegen Sie die Klassifikationsergebnisse in der Variable `polyPredicition` ab. ",
      "metadata": {}
    },
    {
      "cell_type": "code",
      "source": "polyMeshPointsToClassify = \npolyPrediction = \n",
      "metadata": {
        "trusted": true
      },
      "execution_count": 9,
      "outputs": [
        {
          "ename": "<class 'SyntaxError'>",
          "evalue": "invalid syntax (<ipython-input-9-b360673a2e3b>, line 1)",
          "traceback": [
            "\u001b[0;36m  Cell \u001b[0;32mIn[9], line 1\u001b[0;36m\u001b[0m\n\u001b[0;31m    polyMeshPointsToClassify =\u001b[0m\n\u001b[0m                               ^\u001b[0m\n\u001b[0;31mSyntaxError\u001b[0m\u001b[0;31m:\u001b[0m invalid syntax\n"
          ],
          "output_type": "error"
        }
      ]
    },
    {
      "cell_type": "markdown",
      "source": "Mit folgendem Code werden die neuen Klassifikationsgrenzen gezeigt:",
      "metadata": {}
    },
    {
      "cell_type": "code",
      "source": "# plot the classified points\npolyPrediction = polyPrediction.reshape(xx.shape)\nplt.pcolormesh(xx, yy, polyPrediction, cmap=cmap_light)\nplt.scatter(X[:, 0], X[:, 1], c = y, cmap=cmap_bold)\nplt.show()",
      "metadata": {
        "trusted": true
      },
      "execution_count": 10,
      "outputs": [
        {
          "ename": "<class 'NameError'>",
          "evalue": "name 'polyPrediction' is not defined",
          "traceback": [
            "\u001b[0;31m---------------------------------------------------------------------------\u001b[0m",
            "\u001b[0;31mNameError\u001b[0m                                 Traceback (most recent call last)",
            "Cell \u001b[0;32mIn[10], line 2\u001b[0m\n\u001b[1;32m      1\u001b[0m \u001b[38;5;66;03m# plot the classified points\u001b[39;00m\n\u001b[0;32m----> 2\u001b[0m polyPrediction \u001b[38;5;241m=\u001b[39m \u001b[43mpolyPrediction\u001b[49m\u001b[38;5;241m.\u001b[39mreshape(xx\u001b[38;5;241m.\u001b[39mshape)\n\u001b[1;32m      3\u001b[0m plt\u001b[38;5;241m.\u001b[39mpcolormesh(xx, yy, polyPrediction, cmap\u001b[38;5;241m=\u001b[39mcmap_light)\n\u001b[1;32m      4\u001b[0m plt\u001b[38;5;241m.\u001b[39mscatter(X[:, \u001b[38;5;241m0\u001b[39m], X[:, \u001b[38;5;241m1\u001b[39m], c \u001b[38;5;241m=\u001b[39m y, cmap\u001b[38;5;241m=\u001b[39mcmap_bold)\n",
            "\u001b[0;31mNameError\u001b[0m: name 'polyPrediction' is not defined"
          ],
          "output_type": "error"
        }
      ]
    },
    {
      "cell_type": "markdown",
      "source": "Verwenden Sie nun Polynommerkmale höheren Grades.",
      "metadata": {}
    },
    {
      "cell_type": "markdown",
      "source": "#### Zusatzaufgabe:\nSie können ebenso weitere lineare Klassifikatoren ausprobieren, und sich die Klassifikationsgebiete anzeigen lassen. Möglichke Klassikfikatoren siehe:\nhttp://scikit-learn.org/stable/modules/linear_model.html",
      "metadata": {}
    },
    {
      "cell_type": "code",
      "source": "",
      "metadata": {},
      "execution_count": null,
      "outputs": []
    }
  ]
}